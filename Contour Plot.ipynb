{
 "cells": [
  {
   "cell_type": "code",
   "execution_count": 1,
   "metadata": {},
   "outputs": [],
   "source": [
    "import pandas as pd\n",
    "import matplotlib.pyplot as plt\n",
    "import matplotlib.tri as tri\n",
    "from scipy import interpolate\n",
    "import numpy as np"
   ]
  },
  {
   "cell_type": "code",
   "execution_count": 2,
   "metadata": {},
   "outputs": [],
   "source": [
    "df = pd.read_csv(\"motion_results.csv\")"
   ]
  },
  {
   "cell_type": "code",
   "execution_count": 3,
   "metadata": {},
   "outputs": [],
   "source": [
    "x = np.array(df[\"x\"])\n",
    "y = np.array(df[\"y\"])\n",
    "r = np.array(df[\"r\"])\n",
    "U = np.array(df[\"U\"])"
   ]
  },
  {
   "cell_type": "code",
   "execution_count": 4,
   "metadata": {},
   "outputs": [],
   "source": [
    "# reading the parameters\n",
    "infile = open(\"parameters.txt\", \"r\")\n",
    "N = float(infile.readline())\n",
    "m = float(infile.readline())\n",
    "M = float(infile.readline())\n",
    "R = float(infile.readline())\n",
    "\n",
    "infile.close()"
   ]
  },
  {
   "cell_type": "code",
   "execution_count": 5,
   "metadata": {},
   "outputs": [],
   "source": [
    "def k(m, M):\n",
    "    \n",
    "    return m/M\n",
    "\n",
    "def lamda(m, M):\n",
    "    \n",
    "    return k(m, M)/(1 + k(m, M))\n",
    "\n",
    "def s(m, M, R, x, y):\n",
    "    \n",
    "    tmp = y**2 + (x - (1 - lamda(m, M))*R)**2\n",
    "    \n",
    "    return tmp**0.5\n",
    "\n",
    "def S(m, M, R, x, y):\n",
    "    \n",
    "    tmp = y**2 + (x + lamda(m, M) * R)**2\n",
    "    \n",
    "    return tmp**0.5\n",
    "\n",
    "def U_2d(m, M, R, x, y):\n",
    "    \n",
    "    l_val = lamda(m, M)\n",
    "    S_val = S(m, M, R, x, y)\n",
    "    s_val = s(m, M, R, x, y)\n",
    "    \n",
    "    return -2 * (1 - l_val) * R/S_val - 2*l_val * R/s_val - (np.sqrt(x**2 + y**2)/R)**2"
   ]
  },
  {
   "cell_type": "code",
   "execution_count": 14,
   "metadata": {},
   "outputs": [],
   "source": [
    "N = 2.5"
   ]
  },
  {
   "cell_type": "code",
   "execution_count": 15,
   "metadata": {},
   "outputs": [],
   "source": [
    "x = np.linspace(-int(N), int(N), 1000)\n",
    "y = np.linspace(-int(N), int(N), 1000)\n",
    "X,Y = np.meshgrid(x,y)"
   ]
  },
  {
   "cell_type": "code",
   "execution_count": 16,
   "metadata": {},
   "outputs": [],
   "source": [
    "UU = U_2d(m, M, R, X, Y)"
   ]
  },
  {
   "cell_type": "code",
   "execution_count": 20,
   "metadata": {},
   "outputs": [
    {
     "data": {
      "text/plain": [
       "0.09090909090909091"
      ]
     },
     "execution_count": 20,
     "metadata": {},
     "output_type": "execute_result"
    }
   ],
   "source": [
    "lamda(m, M)"
   ]
  },
  {
   "cell_type": "code",
   "execution_count": 17,
   "metadata": {},
   "outputs": [
    {
     "data": {
      "text/plain": [
       "<matplotlib.contour.QuadContourSet at 0x7f7e80382860>"
      ]
     },
     "execution_count": 17,
     "metadata": {},
     "output_type": "execute_result"
    },
    {
     "data": {
      "image/png": "[encoded data removed]",
      "text/plain": [
       "<Figure size 432x288 with 1 Axes>"
      ]
     },
     "metadata": {
      "needs_background": "light"
     },
     "output_type": "display_data"
    }
   ],
   "source": [
    "plt.contour(X, Y, UU)"
   ]
  },
  {
   "cell_type": "code",
   "execution_count": null,
   "metadata": {},
   "outputs": [],
   "source": []
  }
 ],
 "metadata": {
  "kernelspec": {
   "display_name": "Python 3",
   "language": "python",
   "name": "python3"
  },
  "language_info": {
   "codemirror_mode": {
    "name": "ipython",
    "version": 3
   },
   "file_extension": ".py",
   "mimetype": "text/x-python",
   "name": "python",
   "nbconvert_exporter": "python",
   "pygments_lexer": "ipython3",
   "version": "3.7.0"
  }
 },
 "nbformat": 4,
 "nbformat_minor": 4
}
